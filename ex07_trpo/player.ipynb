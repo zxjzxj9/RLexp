{
 "cells": [
  {
   "cell_type": "code",
   "execution_count": 5,
   "metadata": {},
   "outputs": [],
   "source": [
    "from model import PolicyNet, list_to_tensor\n",
    "import torch\n",
    "from torch import distributions\n",
    "from collections import deque\n",
    "import numpy as np\n",
    "import gym\n",
    "from IPython import display\n",
    "import matplotlib\n",
    "import matplotlib.pyplot as plt\n",
    "%matplotlib inline\n"
   ]
  },
  {
   "cell_type": "code",
   "execution_count": null,
   "metadata": {},
   "outputs": [
    {
     "data": {
      "image/png": "[encoded data removed]",
      "text/plain": [
       "<Figure size 432x288 with 1 Axes>"
      ]
     },
     "metadata": {},
     "output_type": "display_data"
    }
   ],
   "source": [
    "env = gym.make(\"Pong-v0\")\n",
    "\n",
    "NFRAME = 4\n",
    "NSPACE = 6\n",
    "pnet = PolicyNet(NFRAME, NSPACE)\n",
    "pnet.load_state_dict(torch.load(\"model.pt\")[\"policy\"])\n",
    "\n",
    "obs = env.reset()\n",
    "init_state = [np.zeros_like(obs)]*(NFRAME-1)\n",
    "init_state.append(obs.copy())\n",
    "buffer = deque(init_state, maxlen=NFRAME)\n",
    "\n",
    "img = plt.imshow(env.render(mode='rgb_array')) # only call this once\n",
    "for _ in range(10000):\n",
    "    img.set_data(env.render(mode='rgb_array')) # just update the data\n",
    "    display.display(plt.gcf())\n",
    "    display.clear_output(wait=True)\n",
    "    logits, _ = pnet(list_to_tensor(buffer).unsqueeze(0))\n",
    "    dist = distributions.Categorical(logits=logits)\n",
    "    action = dist.sample()\n",
    "    # action = env.action_space.sample()\n",
    "    obs, rwd, end, _ = env.step(action)\n",
    "    buffer.append(obs)"
   ]
  },
  {
   "cell_type": "code",
   "execution_count": null,
   "metadata": {},
   "outputs": [],
   "source": []
  }
 ],
 "metadata": {
  "kernelspec": {
   "display_name": "Python 3",
   "language": "python",
   "name": "python3"
  },
  "language_info": {
   "codemirror_mode": {
    "name": "ipython",
    "version": 3
   },
   "file_extension": ".py",
   "mimetype": "text/x-python",
   "name": "python",
   "nbconvert_exporter": "python",
   "pygments_lexer": "ipython3",
   "version": "3.8.5"
  }
 },
 "nbformat": 4,
 "nbformat_minor": 4
}
